{
 "cells": [
  {
   "cell_type": "code",
   "execution_count": 5,
   "id": "6ee2f75c-42b6-4d65-9145-662c6c9e1217",
   "metadata": {
    "id": "6ee2f75c-42b6-4d65-9145-662c6c9e1217",
    "outputId": "be1470c2-154f-4364-c4e3-7c5ff2e1b942"
   },
   "outputs": [
    {
     "name": "stdout",
     "output_type": "stream",
     "text": [
      "Total Amount = 60000\n",
      "Deposit = 70000\n",
      "Withdraw = 50000\n"
     ]
    }
   ],
   "source": [
    "#Create a BankAccount class with a private attribute __balance. Implement methods to deposit, withdraw, and check balance while ensuring the balance cannot be modified directly.\n",
    "class BankAccount:\n",
    "    def __init__(self,balance=0):\n",
    "        self.__balance=max(balance,0)\n",
    "    def Deposit(self,amount):\n",
    "         if amount>0:\n",
    "             self.__balance += amount\n",
    "    def Withdraw(self,amount):\n",
    "         if 0 < amount <= self.__balance:\n",
    "             self.__balance -= amount\n",
    "    def get_balance(self):\n",
    "         return self.__balance\n",
    "account=BankAccount(60000)\n",
    "print(\"Total Amount =\",account.get_balance())\n",
    "\n",
    "account.Deposit(10000)\n",
    "print(\"Deposit =\",account.get_balance())\n",
    "\n",
    "account.Withdraw(20000)\n",
    "print(\"Withdraw =\",account.get_balance())"
   ]
  },
  {
   "cell_type": "code",
   "execution_count": 13,
   "id": "88852951-7bc8-441c-929d-7a5905888ee7",
   "metadata": {
    "id": "88852951-7bc8-441c-929d-7a5905888ee7",
    "outputId": "358d95fc-daf6-4eb6-d5c3-1ad19ba0ed92"
   },
   "outputs": [
    {
     "name": "stdout",
     "output_type": "stream",
     "text": [
      "8\n",
      "10\n"
     ]
    }
   ],
   "source": [
    "#Create a Movie class with a private attribute __rating. Implement methods to set and get the rating, ensuring the rating is between 1 and 10.\n",
    "class Movie:\n",
    "    def __init__(self,rating):\n",
    "        self.set_rating(rating)\n",
    "        \n",
    "    def set_rating(self,rating):\n",
    "        self.__rating=max(1,min(rating,10))\n",
    "        \n",
    "    def get_rating(self):\n",
    "        return(self.__rating)\n",
    "        \n",
    "movie=Movie(8)\n",
    "print(movie.get_rating())\n",
    "movie.set_rating(10)\n",
    "print(movie.get_rating())"
   ]
  },
  {
   "cell_type": "code",
   "execution_count": null,
   "id": "49f231c3-250c-48c1-bbb6-aff357be2135",
   "metadata": {
    "id": "49f231c3-250c-48c1-bbb6-aff357be2135",
    "outputId": "6c973d27-2606-4567-98e9-72953c626feb"
   },
   "outputs": [
    {
     "name": "stdout",
     "output_type": "stream",
     "text": [
      "To Kill a Mockingbird\n",
      "Harper Lee\n"
     ]
    }
   ],
   "source": [
    "#Create a Book class with private attributes __title and __author. Implement a constructor to set these values and provide methods to retrieve them.\n",
    "class Book:\n",
    "    def __init__(self, title, author):\n",
    "        self.__title = title\n",
    "        self.__author = author\n",
    "\n",
    "    def get_title(self):\n",
    "        return self.__title\n",
    "\n",
    "    def get_author(self):\n",
    "        return self.__author\n",
    "\n",
    "\n",
    "# Example Usage:\n",
    "book = Book(\"To Kill a Mockingbird\", \"Harper Lee\")\n",
    "print(book.get_title())   # Output: To Kill a Mockingbird\n",
    "print(book.get_author())  # Output: Harper Lee"
   ]
  },
  {
   "cell_type": "code",
   "execution_count": null,
   "id": "899503f8-02b1-43b8-abd2-9157c544df6b",
   "metadata": {
    "id": "899503f8-02b1-43b8-abd2-9157c544df6b",
    "outputId": "d2e24757-2485-4ff7-a727-e72a022ab92c"
   },
   "outputs": [
    {
     "name": "stdout",
     "output_type": "stream",
     "text": [
      "0\n",
      "50\n",
      "80\n",
      "40\n"
     ]
    }
   ],
   "source": [
    "#Create a Car class with a private attribute __speed. Implement methods to increase speed, decrease speed, and get the current speed, ensuring speed does not go below 0.\n",
    "class Car:\n",
    "    def __init__(self, speed=0):\n",
    "      self.__speed = max(speed, 0)\n",
    "    def change_speed(self, amount):\n",
    "      self.__speed = max(0, self.__speed + amount)\n",
    "    def get_speed(self):\n",
    "      return self.__speed\n",
    "\n",
    "\n",
    "# Example Usage:\n",
    "car = Car()\n",
    "print(car.get_speed())\n",
    "\n",
    "car.change_speed(50)\n",
    "print(car.get_speed())\n",
    "\n",
    "car.change_speed(30)\n",
    "print(car.get_speed())\n",
    "\n",
    "car.change_speed(-40)  \n",
    "print(car.get_speed())\n"
   ]
  }
 ],
 "metadata": {
  "colab": {
   "provenance": []
  },
  "kernelspec": {
   "display_name": "Python 3 (ipykernel)",
   "language": "python",
   "name": "python3"
  },
  "language_info": {
   "codemirror_mode": {
    "name": "ipython",
    "version": 3
   },
   "file_extension": ".py",
   "mimetype": "text/x-python",
   "name": "python",
   "nbconvert_exporter": "python",
   "pygments_lexer": "ipython3",
   "version": "3.12.4"
  }
 },
 "nbformat": 4,
 "nbformat_minor": 5
}
