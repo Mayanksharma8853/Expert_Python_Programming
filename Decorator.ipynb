{
  "nbformat": 4,
  "nbformat_minor": 0,
  "metadata": {
    "colab": {
      "provenance": []
    },
    "kernelspec": {
      "name": "python3",
      "display_name": "Python 3"
    },
    "language_info": {
      "name": "python"
    }
  },
  "cells": [
    {
      "cell_type": "markdown",
      "source": [
        "A Decorator in Python is a FUNCTIONS WHICH TAKES OTHER FUNCTIONS AS INPUT, ADD ADDITIONAL FUNCTIONALITIES AND RETURNS IT.\n",
        "\n",
        "FUNCTION--DECORATOR--FUNCTION\n",
        "\n",
        "-IT IS A CALLABLE PYTHON OBJECT WHICH MODIFIES OTHER FUNCTION/CLASS.\n",
        "\n",
        "Think of a decorator as a wrapper: it takes a function, adds some kind of functionality, and then returns a new function with the added behavior."
      ],
      "metadata": {
        "id": "ZStvPJAwO86S"
      }
    },
    {
      "cell_type": "code",
      "source": [
        "\n",
        "#With Decorator\n",
        "def decor(func):\n",
        "    def wrapper():\n",
        "      func()\n",
        "\n",
        "      print(\"Start\")\n",
        "\n",
        "    return wrapper\n",
        "\n",
        "@decor\n",
        "def printer():\n",
        "    print(\"Hello!\")\n",
        "    print(\"2Hello!\")\n",
        "\n",
        "# Directly calling the decorated function\n",
        "printer()\n"
      ],
      "metadata": {
        "id": "5wQ3h9rxBubA",
        "colab": {
          "base_uri": "https://localhost:8080/"
        },
        "outputId": "214eb611-e533-44ba-88bb-b474fc0851d9"
      },
      "execution_count": null,
      "outputs": [
        {
          "output_type": "stream",
          "name": "stdout",
          "text": [
            "Hello!\n",
            "2Hello!\n",
            "Start\n"
          ]
        }
      ]
    },
    {
      "cell_type": "code",
      "source": [
        "def decor(func):\n",
        "  def inner():\n",
        "    func() #existing functionality\n",
        "    #add new functionality\n",
        "    print(\"1welcome\")\n",
        "  return inner\n",
        "\n",
        "@decor\n",
        "def printer():\n",
        "  print(\"2welcome\")\n",
        "  print(\"3welcome\")\n",
        "\n",
        "\n",
        "printer()"
      ],
      "metadata": {
        "id": "cBxs8jGa-uXg"
      },
      "execution_count": null,
      "outputs": []
    },
    {
      "cell_type": "code",
      "source": [
        "def decor(func):\n",
        "  def wrapper():\n",
        "    print('------')\n",
        "    func()\n",
        "    print('------')\n",
        "  return wrapper\n",
        "\n",
        "@decor\n",
        "def printer():\n",
        "  print('Hello')\n",
        "\n",
        "printer()"
      ],
      "metadata": {
        "id": "pAdPiEWoKt_B",
        "colab": {
          "base_uri": "https://localhost:8080/"
        },
        "outputId": "6f17b2a2-a5e7-4557-bb0b-38243a40860f"
      },
      "execution_count": null,
      "outputs": [
        {
          "output_type": "stream",
          "name": "stdout",
          "text": [
            "------\n",
            "Hello\n",
            "------\n"
          ]
        }
      ]
    },
    {
      "source": [
        "# First define the decorator function\n",
        "def decorator_function(func):\n",
        "    def wrapper():\n",
        "        # Add any desired functionality here\n",
        "        print(\"Before the original function\")\n",
        "        func()\n",
        "        print(\"After the original function\")\n",
        "    return wrapper\n",
        "\n",
        "#Basic Syntax\n",
        "@decorator_function\n",
        "def original_function():\n",
        "    print(\"Inside original function\")\n",
        "    pass\n",
        "\n",
        "#This is equivalent to:\n",
        "#def original_function():\n",
        "#    pass\n",
        "#original_function = decorator_function(original_function)\n",
        "\n",
        "#So, @decorator_function is syntactic sugar for wrapping the function manually.\n",
        "\n",
        "# Call the function\n",
        "original_function()"
      ],
      "cell_type": "code",
      "metadata": {
        "id": "IR1v1mpF9QFX"
      },
      "execution_count": null,
      "outputs": []
    },
    {
      "cell_type": "code",
      "source": [
        "def my_decorator(func):\n",
        "    def wrapper():\n",
        "        print(\"Before the function runs\")\n",
        "        func()\n",
        "        print(\"After the function runs\")\n",
        "    return wrapper\n",
        "\n",
        "@my_decorator\n",
        "def say_hello():\n",
        "    print(\"Hello!\")\n",
        "\n",
        "say_hello()\n",
        "\n",
        "# @ my_decorator is a shortcut for\n",
        "#say_hello = my_decorator(say_hello)\n",
        "\n",
        "#The wrapper() function adds behavior before and after say_hello()."
      ],
      "metadata": {
        "id": "tLekJcid9APB"
      },
      "execution_count": null,
      "outputs": []
    },
    {
      "cell_type": "code",
      "source": [
        "#Example\n",
        "\n",
        "def my_decorator(func):\n",
        "    def wrapper():\n",
        "        print(\"Something is happening before the function is called.\")\n",
        "        func()\n",
        "        print(\"Something is happening after the function is called.\")\n",
        "    return wrapper\n",
        "\n",
        "@my_decorator\n",
        "def say_hello():\n",
        "    print(\"Hello!\")\n",
        "\n",
        "say_hello()"
      ],
      "metadata": {
        "id": "vIXtozMKRgzJ"
      },
      "execution_count": null,
      "outputs": []
    },
    {
      "cell_type": "code",
      "source": [
        "#Decorators with Arguments\n",
        "#What if your function takes arguments? Modify the wrapper to accept *args and **kwargs.\n",
        "\n",
        "def my_decorator(func):\n",
        "    def wrapper(*args, **kwargs):\n",
        "        print(\"Before call\")\n",
        "        result = func(*args, **kwargs)\n",
        "        print(\"After call\")\n",
        "        return result\n",
        "    return wrapper\n",
        "\n",
        "@my_decorator\n",
        "def greet(name):\n",
        "    print(f\"Hello, {name}!\")\n",
        "\n",
        "greet(\"Alice\")"
      ],
      "metadata": {
        "id": "d1F8Ts7dR-w9",
        "colab": {
          "base_uri": "https://localhost:8080/"
        },
        "outputId": "7e525617-cd63-4c62-fc6a-4436d2e0e925"
      },
      "execution_count": null,
      "outputs": [
        {
          "output_type": "stream",
          "name": "stdout",
          "text": [
            "Before call\n",
            "Hello, Alice!\n",
            "After call\n"
          ]
        }
      ]
    },
    {
      "cell_type": "code",
      "source": [
        "#1. Logging Decorator (Fixed Arguments)\n",
        "#Question: Create a decorator that logs function name and parameters. The function should take exactly 2 arguments.\n",
        "\n",
        "def log_decorator(func):\n",
        "    def wrapper(a, b):\n",
        "        print(f\"Calling {func.__name__} with arguments: {a}, {b}\")\n",
        "        return func(a, b)\n",
        "    return wrapper\n",
        "\n",
        "@log_decorator\n",
        "def multiply(x, y):\n",
        "    return x * y\n",
        "\n",
        "print(multiply(4, 5))\n"
      ],
      "metadata": {
        "colab": {
          "base_uri": "https://localhost:8080/"
        },
        "id": "JJvxizJEMXes",
        "outputId": "113d4ff9-db3c-418f-e121-6867b468f9be"
      },
      "execution_count": null,
      "outputs": [
        {
          "output_type": "stream",
          "name": "stdout",
          "text": [
            "Calling multiply with arguments: 4, 5\n",
            "20\n"
          ]
        }
      ]
    },
    {
      "cell_type": "code",
      "source": [
        "#2. Timer Decorator (No Arguments)\n",
        "#Question: Create a decorator that measures execution time of a function with no parameters.\n",
        "\n",
        "import time\n",
        "\n",
        "def timer_decorator(func):\n",
        "    def wrapper():\n",
        "        start = time.time()\n",
        "        result = func()\n",
        "        end = time.time()\n",
        "        print(f\"Time taken: {end - start:.4f} seconds\")\n",
        "        return result\n",
        "    return wrapper\n",
        "\n",
        "@timer_decorator\n",
        "def do_work():\n",
        "    time.sleep(1)\n",
        "    print(\"Work done.\")\n",
        "\n",
        "do_work()\n"
      ],
      "metadata": {
        "colab": {
          "base_uri": "https://localhost:8080/"
        },
        "id": "gY-81XeJMfj7",
        "outputId": "dca9fb3d-d2f7-4721-e2a9-80f5e9315159"
      },
      "execution_count": null,
      "outputs": [
        {
          "output_type": "stream",
          "name": "stdout",
          "text": [
            "Work done.\n",
            "Time taken: 1.0006 seconds\n"
          ]
        }
      ]
    },
    {
      "cell_type": "code",
      "source": [
        "#3. Authorization Decorator (Single String Parameter)\n",
        "#Question: Create a decorator that checks if a user is \"admin\".\n",
        "\n",
        "\n",
        "def requires_admin(func):\n",
        "    def wrapper(user):\n",
        "        if user != \"admin\":\n",
        "            print(\"Access denied\")\n",
        "            return\n",
        "        return func(user)\n",
        "    return wrapper\n",
        "\n",
        "@requires_admin\n",
        "def access_dashboard(user):\n",
        "    print(f\"{user} accessed the dashboard.\")\n",
        "\n",
        "access_dashboard(\"guest\")\n",
        "access_dashboard(\"admin\")\n"
      ],
      "metadata": {
        "colab": {
          "base_uri": "https://localhost:8080/"
        },
        "id": "kQ78lsrhMpfE",
        "outputId": "c40e6d66-011a-4768-9847-09c3171fc9f9"
      },
      "execution_count": null,
      "outputs": [
        {
          "output_type": "stream",
          "name": "stdout",
          "text": [
            "Access denied\n",
            "admin accessed the dashboard.\n"
          ]
        }
      ]
    },
    {
      "cell_type": "code",
      "source": [
        "#4. Memoization Decorator (Single Integer Argument)\n",
        "#Question: Create a memoization decorator for a function that takes one integer parameter.\n",
        "\n",
        "def decor(func):\n",
        "    cache = {}\n",
        "    def wrapper(n):\n",
        "        if n in cache:\n",
        "            return cache[n]\n",
        "        result = func(n)\n",
        "        cache[n] = result\n",
        "        return result\n",
        "    return wrapper\n",
        "\n",
        "@decor\n",
        "def factorial(n):\n",
        "    if n == 0:\n",
        "        return 1\n",
        "    return n * factorial(n - 1)\n",
        "\n",
        "print(factorial(5))\n",
        "\n"
      ],
      "metadata": {
        "id": "1zI_hfrGMtaM"
      },
      "execution_count": null,
      "outputs": []
    },
    {
      "cell_type": "code",
      "source": [
        "def decor(func):\n",
        "  cache = {}\n",
        "  def wrapper(n):\n",
        "      if n in cache:\n",
        "        return cache[n]\n",
        "      result = func(n)\n",
        "      cache[n] = result\n",
        "      return result\n",
        "  return wrapper\n",
        "\n",
        "@decor\n",
        "def factorial(n):\n",
        "    if n == 0:\n",
        "      return 1\n",
        "    return n*factorial(n-1)\n",
        "\n",
        "print(factorial(5))"
      ],
      "metadata": {
        "id": "jA7vs5oQIhzC"
      },
      "execution_count": null,
      "outputs": []
    },
    {
      "cell_type": "code",
      "source": [
        "#Returning Values\n",
        "#Decorators can also return values from the wrapped function:\n",
        "\n",
        "def double_result(func):\n",
        "    def wrapper(*args, **kwargs):\n",
        "        result = func(*args, **kwargs)\n",
        "        return result*2\n",
        "    return wrapper\n",
        "\n",
        "@double_result\n",
        "def get_number():\n",
        "    return 5\n",
        "\n",
        "print(get_number())  # Output: 10"
      ],
      "metadata": {
        "id": "mOe1Ve1zSRjB",
        "colab": {
          "base_uri": "https://localhost:8080/"
        },
        "outputId": "de507e69-755b-482d-d777-5d96e4574bb1"
      },
      "execution_count": null,
      "outputs": [
        {
          "output_type": "stream",
          "name": "stdout",
          "text": [
            "10\n"
          ]
        }
      ]
    },
    {
      "cell_type": "code",
      "source": [
        "def decor(func):\n",
        "  def wrapper(*args, **kwargs):\n",
        "    result = func(*args, **kwargs)\n",
        "    return result*2\n",
        "  return wrapper\n",
        "\n",
        "@decor\n",
        "def get_number():\n",
        "  return 5\n",
        "\n",
        "print(get_number())\n"
      ],
      "metadata": {
        "id": "aLHwEQOUVaBP",
        "colab": {
          "base_uri": "https://localhost:8080/"
        },
        "outputId": "5dff7a54-3ef8-4d96-8735-c968147c0a7e"
      },
      "execution_count": null,
      "outputs": [
        {
          "output_type": "stream",
          "name": "stdout",
          "text": [
            "10\n"
          ]
        }
      ]
    },
    {
      "cell_type": "code",
      "source": [],
      "metadata": {
        "id": "OxoG3Vo7IVdj"
      },
      "execution_count": null,
      "outputs": []
    }
  ]
}